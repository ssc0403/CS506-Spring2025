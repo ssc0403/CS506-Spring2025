{
 "cells": [
  {
   "attachments": {},
   "cell_type": "markdown",
   "metadata": {},
   "source": [
    "# Worksheet"
   ]
  },
  {
   "cell_type": "markdown",
   "metadata": {},
   "source": [
    "## Density-Based Clustering\n",
    "\n",
    "Follow along with the live coding of the DBScan algorithm."
   ]
  },
  {
   "cell_type": "code",
   "execution_count": null,
   "metadata": {},
   "outputs": [],
   "source": [
    "import numpy as np\n",
    "import matplotlib.pyplot as plt\n",
    "import sklearn.datasets as datasets\n",
    "\n",
    "centers = [[1, 1], [-1, -1], [1, -1]]\n",
    "X, _ = datasets.make_blobs(n_samples=750, centers=centers, cluster_std=0.4,\n",
    "                            random_state=0)\n",
    "plt.scatter(X[:,0],X[:,1],s=10, alpha=0.8)\n",
    "plt.show()\n",
    "\n",
    "class DBC():\n",
    "\n",
    "    def __init__(self, dataset, min_pts, epsilon):\n",
    "        self.dataset = dataset\n",
    "        self.min_pts = min_pts\n",
    "        self.epsilon = epsilon\n",
    "\n",
    "    def dbscan(self):\n",
    "        \"\"\"\n",
    "        returns a list of assignments. The index of the\n",
    "        assignment should match the index of the data point\n",
    "        in the dataset.\n",
    "        \"\"\"\n",
    "        return\n",
    "\n",
    "clustering = DBC(X, 3, .2).dbscan()\n",
    "colors = np.array([x for x in 'bgrcmykbgrcmykbgrcmykbgrcmyk'])\n",
    "colors = np.hstack([colors] * 20)\n",
    "plt.scatter(X[:, 0], X[:, 1], color=colors[clustering].tolist(), s=10, alpha=0.8)\n",
    "plt.show()"
   ]
  },
  {
   "cell_type": "markdown",
   "metadata": {},
   "source": [
    "## Soft Clustering\n",
    "\n",
    "We generate 10 data points that come from a normal distribution with mean 5 and variance 1."
   ]
  },
  {
   "cell_type": "code",
   "execution_count": null,
   "metadata": {},
   "outputs": [],
   "source": [
    "import random\n",
    "import numpy as np\n",
    "from sklearn.cluster import KMeans\n",
    "\n",
    "mean = 5\n",
    "stdev = 1\n",
    "\n",
    "s1 = np.random.normal(mean, stdev, 10).tolist()\n",
    "print(s1)"
   ]
  },
  {
   "cell_type": "markdown",
   "metadata": {},
   "source": [
    "a) Generate 10 more data points, this time coming from a normal distribution with mean 8 and variance 1."
   ]
  },
  {
   "cell_type": "code",
   "execution_count": null,
   "metadata": {},
   "outputs": [],
   "source": [
    "s2 = np.random.normal( ... , ... , ... ).tolist()\n",
    "print(s2)"
   ]
  },
  {
   "cell_type": "markdown",
   "metadata": {},
   "source": [
    "b) Flip a fair coin 10 times. If the coin lands on H, then pick the last data point of `s1` and remove it from `s1`, if T then pick the last data point from `s2` and remove it from `s2`. Add these 10 points to a list called `data`."
   ]
  },
  {
   "cell_type": "code",
   "execution_count": null,
   "metadata": {},
   "outputs": [],
   "source": [
    "data = []\n",
    "for i in range(10):\n",
    "    # flip coin\n",
    "    coin_output = random.choice([0, 1])\n",
    "    if coin_output == 0:\n",
    "        p1 = ...\n",
    "        data.append(p1)\n",
    "    else:\n",
    "        p2 = ...\n",
    "        data.append(p2)\n",
    "print(data)"
   ]
  },
  {
   "cell_type": "markdown",
   "metadata": {},
   "source": [
    "c) This `data` is a Gaussian Mixture Distribution with 2 mixture components. Over the next few questions we will walk through the GMM algorithm to see if we can uncover the parameters we used to generate this data. First, please list all these parameters of the GMM that created `data` and the values we know they have."
   ]
  },
  {
   "cell_type": "markdown",
   "metadata": {},
   "source": []
  }
 ],
 "metadata": {
  "kernelspec": {
   "display_name": "env",
   "language": "python",
   "name": "python3"
  },
  "language_info": {
   "codemirror_mode": {
    "name": "ipython",
    "version": 3
   },
   "file_extension": ".py",
   "mimetype": "text/x-python",
   "name": "python",
   "nbconvert_exporter": "python",
   "pygments_lexer": "ipython3",
   "version": "3.9.18"
  },
  "orig_nbformat": 4,
  "vscode": {
   "interpreter": {
    "hash": "76ca05dc3ea24b2e3b98cdb7774adfbb40773424bf5109b477fd793f623715af"
   }
  }
 },
 "nbformat": 4,
 "nbformat_minor": 2
}
