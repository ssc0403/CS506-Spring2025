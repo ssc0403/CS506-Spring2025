{
  "cells": [
    {
      "cell_type": "markdown",
      "metadata": {
        "id": "vSjbqpfh03qQ"
      },
      "source": [
        "# **In this lab, in addition to some fun Breaking Bad references, you will learn to:**\n",
        "\n",
        "\t•\tApply Singular Value Decomposition (SVD) using numpy to compress an image.\n",
        "\t•\tExplore SVD's (TruncatedSVD) limitation for non-linear dataset, and compare with t-sne, using the concept of dimensionality reduction.\n",
        "\t•\tExplore SVD's limitation for sudden and high contrast changes in images with sharp edges such as images of text.\n",
        "\t•\tUsing Discrete Cosine Transform: a solution to images with sharp edges and sudden high contrast changes.\n"
      ]
    },
    {
      "cell_type": "markdown",
      "metadata": {},
      "source": [
        "# **Recap**\n",
        "## 1. SVD:\n",
        "Singular Value Decomposition (SVD) is a matrix factorization technique that breaks down a matrix A into three matrices: \n",
        "A = U . S . V^T , where:\n",
        "\n",
        "U (Left Singular Vectors) – Captures important row patterns. \n",
        "\n",
        "S (Singular Values) – Represents importance (energy) of each component. \n",
        "\n",
        "Vᵀ (Right Singular Vectors) – Captures important column patterns.\n",
        "\n",
        "SVD can be used in image compression (lossy), dimensionality reduction, etc.\n",
        "\n",
        "##### **Limitations**: \n",
        "1. When data has non-linear relationship. \n",
        "\n",
        "2. When an image has sudden changes and sharp edges, like images of text.\n",
        "\n",
        "## 2. t-sne:\n",
        "t-SNE (t-Distributed Stochastic Neighbor Embedding) is a non-linear dimensionality reduction technique used to visualize high-dimensional data in 2D or 3D. It takes high dimensional data (eg., 100D) and maps it to 2D or 3D by keeping similar points together.\n",
        "\n",
        "##### **Advantage**: Works amazing for data with non-linear relationship, hence it overcomes the first limitation of SVD.\n",
        "\n",
        "## 3. DCT:\n",
        "DCT (Discrete Cosine Transform) is a mathematical transformation used for image and signal compression by converting data into frequency components.\n",
        "\n",
        "It breaks the data into frequency components (low & high frequencies). Then, it keeps important (low-frequency) parts and removes less important (high-frequency) parts.\n",
        "\n",
        "Difference between SVD and DCT: DCT works in the frequency domain (An image in the frequency domain means that it represents the variation of pixel intensities rather than the pixels themselves) while SVD works in the matrix domain.\n",
        "\n",
        "##### **Advantage**: Works good for images with sudden changes and sharp edges, like images of text. Hence, it overcomes the second limitation of SVD."
      ]
    },
    {
      "cell_type": "markdown",
      "metadata": {},
      "source": [
        "# References and Materials:\n",
        "\n",
        "**Breaking Bad (A must watch!)**: https://www.imdb.com/title/tt0903747/\n",
        "\n",
        "**Singular Value Decomposition**: https://www.geeksforgeeks.org/singular-value-decomposition-svd/\n",
        "\n",
        "**t-sne**: https://www.geeksforgeeks.org/ml-t-distributed-stochastic-neighbor-embedding-t-sne-algorithm/\n",
        "\n",
        "**Discrete Cosine Transform**: https://www.geeksforgeeks.org/discrete-cosine-transform-algorithm-program/"
      ]
    },
    {
      "cell_type": "markdown",
      "metadata": {
        "id": "KpBC-pO11BFA"
      },
      "source": [
        "# Before starting with the lab... \n",
        "ensure you have the required libraries installed. Run:\n",
        "\n",
        "**pip install opencv-python numpy matplotlib scikit-learn scipy**"
      ]
    },
    {
      "cell_type": "markdown",
      "metadata": {
        "id": "N-bX3U-v1NCx"
      },
      "source": [
        "# Step 1: Load an Image in Grayscale"
      ]
    },
    {
      "cell_type": "code",
      "execution_count": null,
      "metadata": {
        "id": "9lS1lgPZHWQ5"
      },
      "outputs": [
        {
          "ename": "",
          "evalue": "",
          "output_type": "error",
          "traceback": [
            "\u001b[1;31mRunning cells with '.venv (Python 3.13.1)' requires the ipykernel package.\n",
            "\u001b[1;31mRun the following command to install 'ipykernel' into the Python environment. \n",
            "\u001b[1;31mCommand: '/Users/shepherd/Documents/BU/CS506-Spring2025/labs/lab5/.venv/bin/python -m pip install ipykernel -U --force-reinstall'"
          ]
        }
      ],
      "source": [
        "import cv2\n",
        "import matplotlib.pyplot as plt\n",
        "\n",
        "def load_image(image_path):\n",
        "    \"\"\"Load image in grayscale\"\"\"\n",
        "    img = cv2.imread(image_path, cv2.IMREAD_GRAYSCALE)\n",
        "    return img\n",
        "\n",
        "image_path = \"face.png\"\n",
        "img = load_image(image_path)\n",
        "\n",
        "# Display the original image\n",
        "plt.imshow(img, cmap=\"gray\")\n",
        "plt.title(\"Original Face Image (Walter White aka Heisenberg)\")\n",
        "plt.show()"
      ]
    },
    {
      "cell_type": "markdown",
      "metadata": {
        "id": "VD-nydL29Y5c"
      },
      "source": [
        "# Step 2: Write SVD using numpy\n",
        "\n",
        "Complete the TODOs below"
      ]
    },
    {
      "cell_type": "code",
      "execution_count": 5,
      "metadata": {
        "id": "o75stosIHYkE"
      },
      "outputs": [
        {
          "ename": "NameError",
          "evalue": "name 'img' is not defined",
          "output_type": "error",
          "traceback": [
            "\u001b[0;31m---------------------------------------------------------------------------\u001b[0m",
            "\u001b[0;31mNameError\u001b[0m                                 Traceback (most recent call last)",
            "Cell \u001b[0;32mIn[5], line 22\u001b[0m\n\u001b[1;32m     19\u001b[0m     \u001b[38;5;28;01mreturn\u001b[39;00m np\u001b[38;5;241m.\u001b[39mclip(compressed_img, \u001b[38;5;241m0\u001b[39m, \u001b[38;5;241m255\u001b[39m)\u001b[38;5;241m.\u001b[39mastype(np\u001b[38;5;241m.\u001b[39muint8)  \u001b[38;5;66;03m# Clip to valid pixel range and valid datatype for vision problems\u001b[39;00m\n\u001b[1;32m     21\u001b[0m \u001b[38;5;66;03m# Compress image using SVD with different k values\u001b[39;00m\n\u001b[0;32m---> 22\u001b[0m compressed_img \u001b[38;5;241m=\u001b[39m compress_image_svd(img, \u001b[38;5;241m10\u001b[39m) \n\u001b[1;32m     24\u001b[0m \u001b[38;5;66;03m#Apply compress_image_svd (experiment with different values of k)\u001b[39;00m\n\u001b[1;32m     25\u001b[0m \n\u001b[1;32m     26\u001b[0m \u001b[38;5;66;03m# Display Results\u001b[39;00m\n\u001b[1;32m     27\u001b[0m plt\u001b[38;5;241m.\u001b[39mfigure(figsize\u001b[38;5;241m=\u001b[39m(\u001b[38;5;241m15\u001b[39m, \u001b[38;5;241m5\u001b[39m))\n",
            "\u001b[0;31mNameError\u001b[0m: name 'img' is not defined"
          ]
        }
      ],
      "source": [
        "import numpy as np\n",
        "\n",
        "def compress_image_svd(img, k):\n",
        "    \"\"\"Compress an image using SVD by keeping only k singular values\"\"\"\n",
        "    # Step 1: Compute full SVD using numpy's SVD\n",
        "    # U: Left Singular Vectors. S: Singular Values. Vt: Right Singular Vectors Transposed. \n",
        "    # Apply svd from linalg in numpy. \n",
        "    # Set full_matrices argument to False (makes the decomposition faster and memory-efficient by keeping only the necessary components).\n",
        "    U, S, Vt = np.linalg.svd(img, full_matrices=False)\n",
        "    # Step 2: Keep only top-k singular values\n",
        "    S_k = np.zeros((k, k))  # Create a k x k Sigma matrix\n",
        "    np.fill_diagonal(S_k, S[:k])  # Fill diagonal with top-k singular values\n",
        "    U_k = U[:, :k]  # Take first k columns of U\n",
        "    Vt_k = Vt[:k, :]  # Take first k rows of Vt\n",
        "\n",
        "    # Step 3: Reconstruct the image using U dot S dot V^T (use dot function in numpy)\n",
        "    compressed_img = np.dot(U_k, np.dot(S_k, Vt_k))\n",
        "\n",
        "    return np.clip(compressed_img, 0, 255).astype(np.uint8)  # Clip to valid pixel range and valid datatype for vision problems\n",
        "\n",
        "# Compress image using SVD with different k values\n",
        "compressed_img = compress_image_svd(img, 10) \n",
        "\n",
        "#Apply compress_image_svd (experiment with different values of k)\n",
        "\n",
        "# Display Results\n",
        "plt.figure(figsize=(15, 5))\n",
        "\n",
        "plt.subplot(1, 3, 1)\n",
        "plt.imshow(img, cmap=\"gray\")\n",
        "plt.title(\"Original Face Image\")\n",
        "\n",
        "plt.subplot(1, 3, 2)\n",
        "plt.imshow(compressed_img, cmap=\"gray\")\n",
        "plt.title(\"Compressed Face Image\")\n",
        "\n",
        "plt.show()"
      ]
    },
    {
      "cell_type": "markdown",
      "metadata": {},
      "source": [
        "# Step 3: Exposing the first limitation of SVD\n",
        "Apply TruncatedSVD for Dimensionality Reduction (to test with non-linear data) and Compare with t-sne\n",
        "\n",
        "**Note:** We will use in-built TruncatedSVD (**from sklearn.decomposition**) instead of using numpy to write SVD's maths\n",
        "\n",
        "**We will generate a non-linear 3D dataset (Swiss Roll dataset), and apply TruncatedSVD on it and compare it with t-sne**\n",
        "\n",
        "Complete the TODOs below"
      ]
    },
    {
      "cell_type": "code",
      "execution_count": 1,
      "metadata": {},
      "outputs": [
        {
          "ename": "NameError",
          "evalue": "name 'plt' is not defined",
          "output_type": "error",
          "traceback": [
            "\u001b[0;31m---------------------------------------------------------------------------\u001b[0m",
            "\u001b[0;31mNameError\u001b[0m                                 Traceback (most recent call last)",
            "Cell \u001b[0;32mIn[1], line 19\u001b[0m\n\u001b[1;32m     16\u001b[0m X_tsne \u001b[38;5;241m=\u001b[39m tsne\u001b[38;5;241m.\u001b[39mfit_transform(X)\n\u001b[1;32m     18\u001b[0m \u001b[38;5;66;03m# Plot Results\u001b[39;00m\n\u001b[0;32m---> 19\u001b[0m fig, axes \u001b[38;5;241m=\u001b[39m plt\u001b[38;5;241m.\u001b[39msubplots(\u001b[38;5;241m1\u001b[39m, \u001b[38;5;241m3\u001b[39m, figsize\u001b[38;5;241m=\u001b[39m(\u001b[38;5;241m15\u001b[39m, \u001b[38;5;241m5\u001b[39m))\n\u001b[1;32m     21\u001b[0m \u001b[38;5;66;03m# Original 3D Swiss Roll\u001b[39;00m\n\u001b[1;32m     22\u001b[0m ax \u001b[38;5;241m=\u001b[39m fig\u001b[38;5;241m.\u001b[39madd_subplot(\u001b[38;5;241m1\u001b[39m, \u001b[38;5;241m3\u001b[39m, \u001b[38;5;241m1\u001b[39m, projection\u001b[38;5;241m=\u001b[39m\u001b[38;5;124m'\u001b[39m\u001b[38;5;124m3d\u001b[39m\u001b[38;5;124m'\u001b[39m)\n",
            "\u001b[0;31mNameError\u001b[0m: name 'plt' is not defined"
          ]
        }
      ],
      "source": [
        "from sklearn.datasets import make_swiss_roll\n",
        "from sklearn.decomposition import TruncatedSVD\n",
        "from sklearn.manifold import TSNE\n",
        "\n",
        "# Generate Swiss Roll dataset\n",
        "n_samples = 1000\n",
        "noise = 0.1\n",
        "X, color = make_swiss_roll(n_samples, noise=noise)\n",
        "\n",
        "# Apply SVD to reduce Swiss Roll from 3D to 2D\n",
        "svd = TruncatedSVD(n_components=2) #TODO use TruncatedSVD() to initialize SVD by passing in number of components (n_components) as argument (this is k: number of top k values to retain)\n",
        "X_svd = svd.fit_transform(X) #TODO fit and transform svd on the dataset X (use the fit_transform() function)\n",
        "\n",
        "# Apply t-SNE to reduce Swiss Roll from 3D to 2D\n",
        "tsne = TSNE(n_components=2, perplexity=30, random_state=42)\n",
        "X_tsne = tsne.fit_transform(X)\n",
        "\n",
        "# Plot Results\n",
        "fig, axes = plt.subplots(1, 3, figsize=(15, 5))\n",
        "\n",
        "# Original 3D Swiss Roll\n",
        "ax = fig.add_subplot(1, 3, 1, projection='3d')\n",
        "ax.scatter(X[:, 0], X[:, 1], X[:, 2], c=color, cmap=plt.cm.viridis)\n",
        "ax.set_title(\"Original 3D Swiss Roll\")\n",
        "\n",
        "# SVD Projection\n",
        "axes[1].scatter(X_svd[:, 0], X_svd[:, 1], c=color, cmap=plt.cm.viridis)\n",
        "axes[1].set_title(\"SVD Projection to 2D\")\n",
        "\n",
        "# t-SNE Projection\n",
        "axes[2].scatter(X_tsne[:, 0], X_tsne[:, 1], c=color, cmap=plt.cm.viridis)\n",
        "axes[2].set_title(\"t-SNE Projection to 2D\")\n",
        "\n",
        "plt.show()"
      ]
    },
    {
      "cell_type": "markdown",
      "metadata": {},
      "source": [
        "#### **Observation**: \n",
        "t-sne preserves the curved structure but SVD fails to do so because it does not work with non-linear dataset, hence, it can not understand the relationship if it is non-linear. This exposes the first limitation of SVD (When data has non-linear relationship. )"
      ]
    },
    {
      "cell_type": "markdown",
      "metadata": {},
      "source": [
        "# Step 4: Exposing the second limitation of SVD\n",
        "Comparison of DCT vs SVD, and how SVD fails on text images (images with sharp edges and where there are abrupt changes in image intensity/brightness levels)\n",
        "\n",
        "**There are no TODOs in this step, just run the cells below and observe the results!**"
      ]
    },
    {
      "cell_type": "code",
      "execution_count": null,
      "metadata": {
        "id": "RyOp0jO32X8O"
      },
      "outputs": [],
      "source": [
        "image_path = \"text.png\"\n",
        "img = load_image(image_path)\n",
        "def max_svd_k(img):\n",
        "    \"\"\"Returns the maximum k value for SVD compression of an image.\"\"\"\n",
        "    m, n = img.shape  # Get height and width of the image\n",
        "    return min(m, n)\n",
        "\n",
        "plt.imshow(img, cmap=\"gray\")\n",
        "plt.title(\"Text Image (Dialogues from Breaking Bad :D)\")\n",
        "plt.show()\n",
        "\n",
        "k_max = max_svd_k(img)\n",
        "print(f\"Maximum possible k for SVD: {k_max}\")"
      ]
    },
    {
      "cell_type": "markdown",
      "metadata": {},
      "source": [
        "#### **Maximum possible k for SVD in text image is: 814. We will retain the top 4 (top 0.5%) k (singular values) and observe the compressed image**. Run the below cell to apply SVD on text image"
      ]
    },
    {
      "cell_type": "code",
      "execution_count": null,
      "metadata": {},
      "outputs": [],
      "source": [
        "def apply_svd_compression(img, k):\n",
        "    \"\"\"Compress the text image using Truncated SVD by keeping only k components\"\"\"\n",
        "    svd = TruncatedSVD(n_components=k)\n",
        "    \n",
        "    # Fit SVD and transform the image\n",
        "    U_reduced = svd.fit_transform(img)\n",
        "    \n",
        "    # Reconstruct the image from compressed representation\n",
        "    compressed_img = svd.inverse_transform(U_reduced)\n",
        "    \n",
        "    return np.clip(compressed_img, 0, 255).astype(np.uint8)\n",
        "\n",
        "compressed_img = apply_svd_compression(img, k=4)\n",
        "    \n",
        "plt.imshow(compressed_img, cmap=\"gray\")\n",
        "plt.title(f\"Compressed text image using SVD (k=4) (top 0.5% k values)\")\n",
        "plt.axis(\"off\")\n",
        "\n",
        "plt.show()"
      ]
    },
    {
      "cell_type": "markdown",
      "metadata": {},
      "source": [
        "#### Now we will apply DCT. We will retain the top 0.5% coefficient (frequency) values and observe the compressed image**. Run the below cell to apply DCT on text image"
      ]
    },
    {
      "cell_type": "code",
      "execution_count": null,
      "metadata": {},
      "outputs": [],
      "source": [
        "from scipy.fftpack import dct, idct\n",
        "def dct2(img):\n",
        "    \"\"\"Apply 2D Discrete Cosine Transform (DCT) to the image.\"\"\"\n",
        "    return dct(dct(img.T, norm='ortho').T, norm='ortho')\n",
        "\n",
        "def idct2(dct_img):\n",
        "    \"\"\"Apply Inverse 2D Discrete Cosine Transform (IDCT) to reconstruct the image.\"\"\"\n",
        "    return idct(idct(dct_img.T, norm='ortho').T, norm='ortho')\n",
        "\n",
        "def compress_image_dct(img, keep_fraction=0.1):\n",
        "    \"\"\"Compress the image by keeping only a fraction of the DCT coefficients.\"\"\"\n",
        "    dct_transformed = dct2(img)\n",
        "\n",
        "    # Zero out small coefficients (Keep only top percentage of frequencies)\n",
        "    keep_threshold = np.percentile(np.abs(dct_transformed), (1 - keep_fraction) * 100)\n",
        "    dct_transformed[np.abs(dct_transformed) < keep_threshold] = 0\n",
        "\n",
        "    # Reconstruct image using IDCT\n",
        "    compressed_img = idct2(dct_transformed)\n",
        "\n",
        "    return np.clip(compressed_img, 0, 255).astype(np.uint8)\n",
        "\n",
        "# Load text image in grayscale\n",
        "image_path = \"text.png\"  # Replace with actual file path\n",
        "img = cv2.imread(image_path, cv2.IMREAD_GRAYSCALE)\n",
        "\n",
        "# Ensure image is loaded correctly\n",
        "if img is None:\n",
        "    raise FileNotFoundError(f\"Error: Could not read the image file {image_path}. Please check the file path.\")\n",
        "\n",
        "# Apply DCT compression (keep 10% of the strongest coefficients)\n",
        "compressed_img = compress_image_dct(img, keep_fraction=0.005)\n",
        "\n",
        "\n",
        "plt.imshow(compressed_img, cmap=\"gray\")\n",
        "plt.title(f\"Compressed Text Image using DCT (retained top 0.5% coefficients)\")\n",
        "plt.axis(\"off\")\n",
        "\n",
        "plt.show()"
      ]
    },
    {
      "cell_type": "markdown",
      "metadata": {},
      "source": [
        "#### **Observation**:\n",
        "We compared DCT and SVD on similar grounds by retaining the top 0.5% values in both the methods (top singular values for SVD and top coefficient values for DCT). We can clearly see how much better DCT performs.\n",
        "\n",
        "This exposes the second limitation of SVD (When an image has sudden changes and sharp edges, like images of text)"
      ]
    }
  ],
  "metadata": {
    "colab": {
      "provenance": []
    },
    "kernelspec": {
      "display_name": "base",
      "language": "python",
      "name": "python3"
    },
    "language_info": {
      "codemirror_mode": {
        "name": "ipython",
        "version": 3
      },
      "file_extension": ".py",
      "mimetype": "text/x-python",
      "name": "python",
      "nbconvert_exporter": "python",
      "pygments_lexer": "ipython3",
      "version": "3.11.4"
    }
  },
  "nbformat": 4,
  "nbformat_minor": 0
}
